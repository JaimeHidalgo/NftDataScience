{
 "cells": [
  {
   "cell_type": "markdown",
   "id": "a70943ca-15da-4a61-ba82-adb3d1eb2e08",
   "metadata": {},
   "source": [
    "Import the tools "
   ]
  },
  {
   "cell_type": "code",
   "execution_count": 2,
   "id": "5b03c720-f462-4cc9-81a2-54169ff2d048",
   "metadata": {},
   "outputs": [],
   "source": [
    "import pandas as pd\n",
    "import matplotlib.pyplot as plt"
   ]
  },
  {
   "cell_type": "markdown",
   "id": "bf2d062f-b9f5-4ce8-bee3-b69deb4ebcbe",
   "metadata": {},
   "source": [
    "Explore the Data for the first time"
   ]
  },
  {
   "cell_type": "code",
   "execution_count": 3,
   "id": "6a1e1034-e443-4ee9-99d0-4cb7f461ab7a",
   "metadata": {},
   "outputs": [
    {
     "data": {
      "text/html": [
       "<div>\n",
       "<style scoped>\n",
       "    .dataframe tbody tr th:only-of-type {\n",
       "        vertical-align: middle;\n",
       "    }\n",
       "\n",
       "    .dataframe tbody tr th {\n",
       "        vertical-align: top;\n",
       "    }\n",
       "\n",
       "    .dataframe thead th {\n",
       "        text-align: right;\n",
       "    }\n",
       "</style>\n",
       "<table border=\"1\" class=\"dataframe\">\n",
       "  <thead>\n",
       "    <tr style=\"text-align: right;\">\n",
       "      <th></th>\n",
       "      <th>Date</th>\n",
       "      <th>Sales_USD_cumsum</th>\n",
       "      <th>Number_of_Sales_cumsum</th>\n",
       "      <th>Active_Market_Wallets_cumsum</th>\n",
       "      <th>Primary_Sales_cumsum</th>\n",
       "      <th>Secondary_Sales_cumsum</th>\n",
       "      <th>AverageUSD_cum</th>\n",
       "      <th>Sales_USD</th>\n",
       "      <th>Number_of_Sales</th>\n",
       "      <th>Active_Market_Wallets</th>\n",
       "      <th>Primary_Sales</th>\n",
       "    </tr>\n",
       "  </thead>\n",
       "  <tbody>\n",
       "    <tr>\n",
       "      <th>0</th>\n",
       "      <td>2017-06-22</td>\n",
       "      <td>0.000000e+00</td>\n",
       "      <td>0</td>\n",
       "      <td>0.0</td>\n",
       "      <td>0</td>\n",
       "      <td>NaN</td>\n",
       "      <td>NaN</td>\n",
       "      <td>NaN</td>\n",
       "      <td>NaN</td>\n",
       "      <td>NaN</td>\n",
       "      <td>NaN</td>\n",
       "    </tr>\n",
       "    <tr>\n",
       "      <th>1</th>\n",
       "      <td>2017-06-23</td>\n",
       "      <td>1.020300e+03</td>\n",
       "      <td>19</td>\n",
       "      <td>8.0</td>\n",
       "      <td>0</td>\n",
       "      <td>19.0</td>\n",
       "      <td>53.70</td>\n",
       "      <td>1.020300e+03</td>\n",
       "      <td>19.0</td>\n",
       "      <td>8.0</td>\n",
       "      <td>0.0</td>\n",
       "    </tr>\n",
       "    <tr>\n",
       "      <th>2</th>\n",
       "      <td>2017-06-24</td>\n",
       "      <td>2.261140e+03</td>\n",
       "      <td>40</td>\n",
       "      <td>21.0</td>\n",
       "      <td>0</td>\n",
       "      <td>21.0</td>\n",
       "      <td>56.53</td>\n",
       "      <td>1.240840e+03</td>\n",
       "      <td>21.0</td>\n",
       "      <td>13.0</td>\n",
       "      <td>0.0</td>\n",
       "    </tr>\n",
       "    <tr>\n",
       "      <th>3</th>\n",
       "      <td>2017-06-25</td>\n",
       "      <td>2.778690e+03</td>\n",
       "      <td>53</td>\n",
       "      <td>28.0</td>\n",
       "      <td>0</td>\n",
       "      <td>13.0</td>\n",
       "      <td>52.43</td>\n",
       "      <td>5.175500e+02</td>\n",
       "      <td>13.0</td>\n",
       "      <td>7.0</td>\n",
       "      <td>0.0</td>\n",
       "    </tr>\n",
       "    <tr>\n",
       "      <th>4</th>\n",
       "      <td>2017-06-26</td>\n",
       "      <td>3.203320e+03</td>\n",
       "      <td>67</td>\n",
       "      <td>34.0</td>\n",
       "      <td>0</td>\n",
       "      <td>14.0</td>\n",
       "      <td>47.81</td>\n",
       "      <td>4.246300e+02</td>\n",
       "      <td>14.0</td>\n",
       "      <td>6.0</td>\n",
       "      <td>0.0</td>\n",
       "    </tr>\n",
       "    <tr>\n",
       "      <th>...</th>\n",
       "      <td>...</td>\n",
       "      <td>...</td>\n",
       "      <td>...</td>\n",
       "      <td>...</td>\n",
       "      <td>...</td>\n",
       "      <td>...</td>\n",
       "      <td>...</td>\n",
       "      <td>...</td>\n",
       "      <td>...</td>\n",
       "      <td>...</td>\n",
       "      <td>...</td>\n",
       "    </tr>\n",
       "    <tr>\n",
       "      <th>1601</th>\n",
       "      <td>2021-11-08</td>\n",
       "      <td>1.008803e+10</td>\n",
       "      <td>10913146</td>\n",
       "      <td>NaN</td>\n",
       "      <td>6541355</td>\n",
       "      <td>14829.0</td>\n",
       "      <td>924.39</td>\n",
       "      <td>7.706698e+07</td>\n",
       "      <td>59264.0</td>\n",
       "      <td>NaN</td>\n",
       "      <td>44435.0</td>\n",
       "    </tr>\n",
       "    <tr>\n",
       "      <th>1602</th>\n",
       "      <td>2021-11-09</td>\n",
       "      <td>1.014001e+10</td>\n",
       "      <td>10964025</td>\n",
       "      <td>NaN</td>\n",
       "      <td>6573511</td>\n",
       "      <td>18723.0</td>\n",
       "      <td>924.84</td>\n",
       "      <td>5.197508e+07</td>\n",
       "      <td>50879.0</td>\n",
       "      <td>NaN</td>\n",
       "      <td>32156.0</td>\n",
       "    </tr>\n",
       "    <tr>\n",
       "      <th>1603</th>\n",
       "      <td>2021-11-10</td>\n",
       "      <td>1.019902e+10</td>\n",
       "      <td>11008847</td>\n",
       "      <td>NaN</td>\n",
       "      <td>6601205</td>\n",
       "      <td>17128.0</td>\n",
       "      <td>926.44</td>\n",
       "      <td>5.901034e+07</td>\n",
       "      <td>44822.0</td>\n",
       "      <td>NaN</td>\n",
       "      <td>27694.0</td>\n",
       "    </tr>\n",
       "    <tr>\n",
       "      <th>1604</th>\n",
       "      <td>2021-11-11</td>\n",
       "      <td>1.023456e+10</td>\n",
       "      <td>11022782</td>\n",
       "      <td>NaN</td>\n",
       "      <td>6609013</td>\n",
       "      <td>6127.0</td>\n",
       "      <td>928.49</td>\n",
       "      <td>3.554317e+07</td>\n",
       "      <td>13935.0</td>\n",
       "      <td>NaN</td>\n",
       "      <td>7808.0</td>\n",
       "    </tr>\n",
       "    <tr>\n",
       "      <th>1605</th>\n",
       "      <td>2021-11-12</td>\n",
       "      <td>1.022836e+10</td>\n",
       "      <td>11020587</td>\n",
       "      <td>NaN</td>\n",
       "      <td>6607842</td>\n",
       "      <td>-1024.0</td>\n",
       "      <td>928.11</td>\n",
       "      <td>-6.196720e+06</td>\n",
       "      <td>-2195.0</td>\n",
       "      <td>NaN</td>\n",
       "      <td>-1171.0</td>\n",
       "    </tr>\n",
       "  </tbody>\n",
       "</table>\n",
       "<p>1606 rows × 11 columns</p>\n",
       "</div>"
      ],
      "text/plain": [
       "            Date  Sales_USD_cumsum  Number_of_Sales_cumsum  \\\n",
       "0     2017-06-22      0.000000e+00                       0   \n",
       "1     2017-06-23      1.020300e+03                      19   \n",
       "2     2017-06-24      2.261140e+03                      40   \n",
       "3     2017-06-25      2.778690e+03                      53   \n",
       "4     2017-06-26      3.203320e+03                      67   \n",
       "...          ...               ...                     ...   \n",
       "1601  2021-11-08      1.008803e+10                10913146   \n",
       "1602  2021-11-09      1.014001e+10                10964025   \n",
       "1603  2021-11-10      1.019902e+10                11008847   \n",
       "1604  2021-11-11      1.023456e+10                11022782   \n",
       "1605  2021-11-12      1.022836e+10                11020587   \n",
       "\n",
       "      Active_Market_Wallets_cumsum  Primary_Sales_cumsum  \\\n",
       "0                              0.0                     0   \n",
       "1                              8.0                     0   \n",
       "2                             21.0                     0   \n",
       "3                             28.0                     0   \n",
       "4                             34.0                     0   \n",
       "...                            ...                   ...   \n",
       "1601                           NaN               6541355   \n",
       "1602                           NaN               6573511   \n",
       "1603                           NaN               6601205   \n",
       "1604                           NaN               6609013   \n",
       "1605                           NaN               6607842   \n",
       "\n",
       "      Secondary_Sales_cumsum  AverageUSD_cum     Sales_USD  Number_of_Sales  \\\n",
       "0                        NaN             NaN           NaN              NaN   \n",
       "1                       19.0           53.70  1.020300e+03             19.0   \n",
       "2                       21.0           56.53  1.240840e+03             21.0   \n",
       "3                       13.0           52.43  5.175500e+02             13.0   \n",
       "4                       14.0           47.81  4.246300e+02             14.0   \n",
       "...                      ...             ...           ...              ...   \n",
       "1601                 14829.0          924.39  7.706698e+07          59264.0   \n",
       "1602                 18723.0          924.84  5.197508e+07          50879.0   \n",
       "1603                 17128.0          926.44  5.901034e+07          44822.0   \n",
       "1604                  6127.0          928.49  3.554317e+07          13935.0   \n",
       "1605                 -1024.0          928.11 -6.196720e+06          -2195.0   \n",
       "\n",
       "      Active_Market_Wallets  Primary_Sales  \n",
       "0                       NaN            NaN  \n",
       "1                       8.0            0.0  \n",
       "2                      13.0            0.0  \n",
       "3                       7.0            0.0  \n",
       "4                       6.0            0.0  \n",
       "...                     ...            ...  \n",
       "1601                    NaN        44435.0  \n",
       "1602                    NaN        32156.0  \n",
       "1603                    NaN        27694.0  \n",
       "1604                    NaN         7808.0  \n",
       "1605                    NaN        -1171.0  \n",
       "\n",
       "[1606 rows x 11 columns]"
      ]
     },
     "execution_count": 3,
     "metadata": {},
     "output_type": "execute_result"
    }
   ],
   "source": [
    "dfNft = pd.read_csv('NFT_Sales.csv')\n",
    "dfNft"
   ]
  },
  {
   "cell_type": "markdown",
   "id": "4a92787e-ade1-4e48-9297-2ba83166d5b3",
   "metadata": {},
   "source": [
    "Change all NaN to 0"
   ]
  },
  {
   "cell_type": "code",
   "execution_count": 4,
   "id": "19128ab3-9da3-449b-bebf-062e9cebf940",
   "metadata": {},
   "outputs": [
    {
     "data": {
      "text/html": [
       "<div>\n",
       "<style scoped>\n",
       "    .dataframe tbody tr th:only-of-type {\n",
       "        vertical-align: middle;\n",
       "    }\n",
       "\n",
       "    .dataframe tbody tr th {\n",
       "        vertical-align: top;\n",
       "    }\n",
       "\n",
       "    .dataframe thead th {\n",
       "        text-align: right;\n",
       "    }\n",
       "</style>\n",
       "<table border=\"1\" class=\"dataframe\">\n",
       "  <thead>\n",
       "    <tr style=\"text-align: right;\">\n",
       "      <th></th>\n",
       "      <th>Date</th>\n",
       "      <th>Sales_USD_cumsum</th>\n",
       "      <th>Number_of_Sales_cumsum</th>\n",
       "      <th>Active_Market_Wallets_cumsum</th>\n",
       "      <th>Primary_Sales_cumsum</th>\n",
       "      <th>Secondary_Sales_cumsum</th>\n",
       "      <th>AverageUSD_cum</th>\n",
       "      <th>Sales_USD</th>\n",
       "      <th>Number_of_Sales</th>\n",
       "      <th>Active_Market_Wallets</th>\n",
       "      <th>Primary_Sales</th>\n",
       "    </tr>\n",
       "  </thead>\n",
       "  <tbody>\n",
       "    <tr>\n",
       "      <th>0</th>\n",
       "      <td>2017-06-22</td>\n",
       "      <td>0.000000e+00</td>\n",
       "      <td>0</td>\n",
       "      <td>0.0</td>\n",
       "      <td>0</td>\n",
       "      <td>0.0</td>\n",
       "      <td>0.00</td>\n",
       "      <td>0.000000e+00</td>\n",
       "      <td>0.0</td>\n",
       "      <td>0.0</td>\n",
       "      <td>0.0</td>\n",
       "    </tr>\n",
       "    <tr>\n",
       "      <th>1</th>\n",
       "      <td>2017-06-23</td>\n",
       "      <td>1.020300e+03</td>\n",
       "      <td>19</td>\n",
       "      <td>8.0</td>\n",
       "      <td>0</td>\n",
       "      <td>19.0</td>\n",
       "      <td>53.70</td>\n",
       "      <td>1.020300e+03</td>\n",
       "      <td>19.0</td>\n",
       "      <td>8.0</td>\n",
       "      <td>0.0</td>\n",
       "    </tr>\n",
       "    <tr>\n",
       "      <th>2</th>\n",
       "      <td>2017-06-24</td>\n",
       "      <td>2.261140e+03</td>\n",
       "      <td>40</td>\n",
       "      <td>21.0</td>\n",
       "      <td>0</td>\n",
       "      <td>21.0</td>\n",
       "      <td>56.53</td>\n",
       "      <td>1.240840e+03</td>\n",
       "      <td>21.0</td>\n",
       "      <td>13.0</td>\n",
       "      <td>0.0</td>\n",
       "    </tr>\n",
       "    <tr>\n",
       "      <th>3</th>\n",
       "      <td>2017-06-25</td>\n",
       "      <td>2.778690e+03</td>\n",
       "      <td>53</td>\n",
       "      <td>28.0</td>\n",
       "      <td>0</td>\n",
       "      <td>13.0</td>\n",
       "      <td>52.43</td>\n",
       "      <td>5.175500e+02</td>\n",
       "      <td>13.0</td>\n",
       "      <td>7.0</td>\n",
       "      <td>0.0</td>\n",
       "    </tr>\n",
       "    <tr>\n",
       "      <th>4</th>\n",
       "      <td>2017-06-26</td>\n",
       "      <td>3.203320e+03</td>\n",
       "      <td>67</td>\n",
       "      <td>34.0</td>\n",
       "      <td>0</td>\n",
       "      <td>14.0</td>\n",
       "      <td>47.81</td>\n",
       "      <td>4.246300e+02</td>\n",
       "      <td>14.0</td>\n",
       "      <td>6.0</td>\n",
       "      <td>0.0</td>\n",
       "    </tr>\n",
       "    <tr>\n",
       "      <th>...</th>\n",
       "      <td>...</td>\n",
       "      <td>...</td>\n",
       "      <td>...</td>\n",
       "      <td>...</td>\n",
       "      <td>...</td>\n",
       "      <td>...</td>\n",
       "      <td>...</td>\n",
       "      <td>...</td>\n",
       "      <td>...</td>\n",
       "      <td>...</td>\n",
       "      <td>...</td>\n",
       "    </tr>\n",
       "    <tr>\n",
       "      <th>1601</th>\n",
       "      <td>2021-11-08</td>\n",
       "      <td>1.008803e+10</td>\n",
       "      <td>10913146</td>\n",
       "      <td>0.0</td>\n",
       "      <td>6541355</td>\n",
       "      <td>14829.0</td>\n",
       "      <td>924.39</td>\n",
       "      <td>7.706698e+07</td>\n",
       "      <td>59264.0</td>\n",
       "      <td>0.0</td>\n",
       "      <td>44435.0</td>\n",
       "    </tr>\n",
       "    <tr>\n",
       "      <th>1602</th>\n",
       "      <td>2021-11-09</td>\n",
       "      <td>1.014001e+10</td>\n",
       "      <td>10964025</td>\n",
       "      <td>0.0</td>\n",
       "      <td>6573511</td>\n",
       "      <td>18723.0</td>\n",
       "      <td>924.84</td>\n",
       "      <td>5.197508e+07</td>\n",
       "      <td>50879.0</td>\n",
       "      <td>0.0</td>\n",
       "      <td>32156.0</td>\n",
       "    </tr>\n",
       "    <tr>\n",
       "      <th>1603</th>\n",
       "      <td>2021-11-10</td>\n",
       "      <td>1.019902e+10</td>\n",
       "      <td>11008847</td>\n",
       "      <td>0.0</td>\n",
       "      <td>6601205</td>\n",
       "      <td>17128.0</td>\n",
       "      <td>926.44</td>\n",
       "      <td>5.901034e+07</td>\n",
       "      <td>44822.0</td>\n",
       "      <td>0.0</td>\n",
       "      <td>27694.0</td>\n",
       "    </tr>\n",
       "    <tr>\n",
       "      <th>1604</th>\n",
       "      <td>2021-11-11</td>\n",
       "      <td>1.023456e+10</td>\n",
       "      <td>11022782</td>\n",
       "      <td>0.0</td>\n",
       "      <td>6609013</td>\n",
       "      <td>6127.0</td>\n",
       "      <td>928.49</td>\n",
       "      <td>3.554317e+07</td>\n",
       "      <td>13935.0</td>\n",
       "      <td>0.0</td>\n",
       "      <td>7808.0</td>\n",
       "    </tr>\n",
       "    <tr>\n",
       "      <th>1605</th>\n",
       "      <td>2021-11-12</td>\n",
       "      <td>1.022836e+10</td>\n",
       "      <td>11020587</td>\n",
       "      <td>0.0</td>\n",
       "      <td>6607842</td>\n",
       "      <td>-1024.0</td>\n",
       "      <td>928.11</td>\n",
       "      <td>-6.196720e+06</td>\n",
       "      <td>-2195.0</td>\n",
       "      <td>0.0</td>\n",
       "      <td>-1171.0</td>\n",
       "    </tr>\n",
       "  </tbody>\n",
       "</table>\n",
       "<p>1606 rows × 11 columns</p>\n",
       "</div>"
      ],
      "text/plain": [
       "            Date  Sales_USD_cumsum  Number_of_Sales_cumsum  \\\n",
       "0     2017-06-22      0.000000e+00                       0   \n",
       "1     2017-06-23      1.020300e+03                      19   \n",
       "2     2017-06-24      2.261140e+03                      40   \n",
       "3     2017-06-25      2.778690e+03                      53   \n",
       "4     2017-06-26      3.203320e+03                      67   \n",
       "...          ...               ...                     ...   \n",
       "1601  2021-11-08      1.008803e+10                10913146   \n",
       "1602  2021-11-09      1.014001e+10                10964025   \n",
       "1603  2021-11-10      1.019902e+10                11008847   \n",
       "1604  2021-11-11      1.023456e+10                11022782   \n",
       "1605  2021-11-12      1.022836e+10                11020587   \n",
       "\n",
       "      Active_Market_Wallets_cumsum  Primary_Sales_cumsum  \\\n",
       "0                              0.0                     0   \n",
       "1                              8.0                     0   \n",
       "2                             21.0                     0   \n",
       "3                             28.0                     0   \n",
       "4                             34.0                     0   \n",
       "...                            ...                   ...   \n",
       "1601                           0.0               6541355   \n",
       "1602                           0.0               6573511   \n",
       "1603                           0.0               6601205   \n",
       "1604                           0.0               6609013   \n",
       "1605                           0.0               6607842   \n",
       "\n",
       "      Secondary_Sales_cumsum  AverageUSD_cum     Sales_USD  Number_of_Sales  \\\n",
       "0                        0.0            0.00  0.000000e+00              0.0   \n",
       "1                       19.0           53.70  1.020300e+03             19.0   \n",
       "2                       21.0           56.53  1.240840e+03             21.0   \n",
       "3                       13.0           52.43  5.175500e+02             13.0   \n",
       "4                       14.0           47.81  4.246300e+02             14.0   \n",
       "...                      ...             ...           ...              ...   \n",
       "1601                 14829.0          924.39  7.706698e+07          59264.0   \n",
       "1602                 18723.0          924.84  5.197508e+07          50879.0   \n",
       "1603                 17128.0          926.44  5.901034e+07          44822.0   \n",
       "1604                  6127.0          928.49  3.554317e+07          13935.0   \n",
       "1605                 -1024.0          928.11 -6.196720e+06          -2195.0   \n",
       "\n",
       "      Active_Market_Wallets  Primary_Sales  \n",
       "0                       0.0            0.0  \n",
       "1                       8.0            0.0  \n",
       "2                      13.0            0.0  \n",
       "3                       7.0            0.0  \n",
       "4                       6.0            0.0  \n",
       "...                     ...            ...  \n",
       "1601                    0.0        44435.0  \n",
       "1602                    0.0        32156.0  \n",
       "1603                    0.0        27694.0  \n",
       "1604                    0.0         7808.0  \n",
       "1605                    0.0        -1171.0  \n",
       "\n",
       "[1606 rows x 11 columns]"
      ]
     },
     "execution_count": 4,
     "metadata": {},
     "output_type": "execute_result"
    }
   ],
   "source": [
    "dfNft.fillna(0)"
   ]
  },
  {
   "cell_type": "markdown",
   "id": "505379ef-72ca-4a5a-bcf1-aa76df80173d",
   "metadata": {},
   "source": [
    "Is the date in the data frame the same (so we can group by date)"
   ]
  },
  {
   "cell_type": "code",
   "execution_count": 5,
   "id": "dba08718-e8d5-4dc8-aa53-beaf1a733a1b",
   "metadata": {},
   "outputs": [
    {
     "data": {
      "image/png": "[encoded data removed]",
      "text/plain": [
       "<Figure size 432x288 with 1 Axes>"
      ]
     },
     "metadata": {
      "needs_background": "light"
     },
     "output_type": "display_data"
    }
   ],
   "source": [
    "days = dfNft.groupby(dfNft['Date'])['Date'].count()\n",
    "days.plot.bar()\n",
    "plt.show()"
   ]
  },
  {
   "cell_type": "markdown",
   "id": "6d452499-ef16-41e1-8563-98ba8da6a153",
   "metadata": {},
   "source": [
    "Graphing the number of sales by the year to see if we have a increase in sales over the years"
   ]
  },
  {
   "cell_type": "code",
   "execution_count": 6,
   "id": "ad141310-6117-400e-9206-af049bf8b90f",
   "metadata": {},
   "outputs": [
    {
     "data": {
      "text/plain": [
       "<AxesSubplot:xlabel='Date'>"
      ]
     },
     "execution_count": 6,
     "metadata": {},
     "output_type": "execute_result"
    },
    {
     "data": {
      "image/png": "[encoded data removed]",
      "text/plain": [
       "<Figure size 432x288 with 1 Axes>"
      ]
     },
     "metadata": {
      "needs_background": "light"
     },
     "output_type": "display_data"
    }
   ],
   "source": [
    "dfNft.plot(x=\"Date\",y=\"Number_of_Sales_cumsum\",kind=\"line\")"
   ]
  },
  {
   "cell_type": "markdown",
   "id": "435ccda4-2203-4d38-b31e-dcd69ddfdc71",
   "metadata": {},
   "source": [
    "How many Active Wallets we have over the years"
   ]
  },
  {
   "cell_type": "code",
   "execution_count": 7,
   "id": "5da2229c-d2f3-45a9-96d5-c8b774be6528",
   "metadata": {},
   "outputs": [
    {
     "data": {
      "text/plain": [
       "<AxesSubplot:xlabel='Date'>"
      ]
     },
     "execution_count": 7,
     "metadata": {},
     "output_type": "execute_result"
    },
    {
     "data": {
      "image/png": "[encoded data removed]",
      "text/plain": [
       "<Figure size 720x720 with 1 Axes>"
      ]
     },
     "metadata": {
      "needs_background": "light"
     },
     "output_type": "display_data"
    }
   ],
   "source": [
    "dfNft.plot(x=\"Date\",y=\"Active_Market_Wallets\",kind=\"line\",figsize=(10,10))"
   ]
  },
  {
   "cell_type": "markdown",
   "id": "847e21b5-8abf-4515-809c-8d71c32dabea",
   "metadata": {},
   "source": [
    "I have found we have negative numbers (this is very difficult to understand, because we cannot have minus wallets)"
   ]
  },
  {
   "cell_type": "code",
   "execution_count": 8,
   "id": "0efd1c31-2938-4d5e-a63f-34f9a7862523",
   "metadata": {},
   "outputs": [
    {
     "data": {
      "text/html": [
       "<div>\n",
       "<style scoped>\n",
       "    .dataframe tbody tr th:only-of-type {\n",
       "        vertical-align: middle;\n",
       "    }\n",
       "\n",
       "    .dataframe tbody tr th {\n",
       "        vertical-align: top;\n",
       "    }\n",
       "\n",
       "    .dataframe thead th {\n",
       "        text-align: right;\n",
       "    }\n",
       "</style>\n",
       "<table border=\"1\" class=\"dataframe\">\n",
       "  <thead>\n",
       "    <tr style=\"text-align: right;\">\n",
       "      <th></th>\n",
       "      <th>Date</th>\n",
       "      <th>Sales_USD_cumsum</th>\n",
       "      <th>Number_of_Sales_cumsum</th>\n",
       "      <th>Active_Market_Wallets_cumsum</th>\n",
       "      <th>Primary_Sales_cumsum</th>\n",
       "      <th>Secondary_Sales_cumsum</th>\n",
       "      <th>AverageUSD_cum</th>\n",
       "      <th>Sales_USD</th>\n",
       "      <th>Number_of_Sales</th>\n",
       "      <th>Active_Market_Wallets</th>\n",
       "      <th>Primary_Sales</th>\n",
       "    </tr>\n",
       "  </thead>\n",
       "  <tbody>\n",
       "    <tr>\n",
       "      <th>1597</th>\n",
       "      <td>2021-11-04</td>\n",
       "      <td>9.859177e+09</td>\n",
       "      <td>10678772</td>\n",
       "      <td>803092.0</td>\n",
       "      <td>6392713</td>\n",
       "      <td>7971.0</td>\n",
       "      <td>923.25</td>\n",
       "      <td>4.687265e+07</td>\n",
       "      <td>13108.0</td>\n",
       "      <td>-573.0</td>\n",
       "      <td>5137.0</td>\n",
       "    </tr>\n",
       "  </tbody>\n",
       "</table>\n",
       "</div>"
      ],
      "text/plain": [
       "            Date  Sales_USD_cumsum  Number_of_Sales_cumsum  \\\n",
       "1597  2021-11-04      9.859177e+09                10678772   \n",
       "\n",
       "      Active_Market_Wallets_cumsum  Primary_Sales_cumsum  \\\n",
       "1597                      803092.0               6392713   \n",
       "\n",
       "      Secondary_Sales_cumsum  AverageUSD_cum     Sales_USD  Number_of_Sales  \\\n",
       "1597                  7971.0          923.25  4.687265e+07          13108.0   \n",
       "\n",
       "      Active_Market_Wallets  Primary_Sales  \n",
       "1597                 -573.0         5137.0  "
      ]
     },
     "execution_count": 8,
     "metadata": {},
     "output_type": "execute_result"
    }
   ],
   "source": [
    "dfNft[dfNft['Active_Market_Wallets'] == dfNft['Active_Market_Wallets'].min()]"
   ]
  },
  {
   "cell_type": "markdown",
   "id": "c143f754-4e75-46ba-bbcd-74afe9916c64",
   "metadata": {},
   "source": [
    "From the date we can find which month and year we have more activity and latter find out if because the NFT Boom"
   ]
  },
  {
   "cell_type": "code",
   "execution_count": 9,
   "id": "9ebd2093-f548-41aa-8d57-6f18f31c3c2c",
   "metadata": {},
   "outputs": [
    {
     "data": {
      "text/html": [
       "<div>\n",
       "<style scoped>\n",
       "    .dataframe tbody tr th:only-of-type {\n",
       "        vertical-align: middle;\n",
       "    }\n",
       "\n",
       "    .dataframe tbody tr th {\n",
       "        vertical-align: top;\n",
       "    }\n",
       "\n",
       "    .dataframe thead th {\n",
       "        text-align: right;\n",
       "    }\n",
       "</style>\n",
       "<table border=\"1\" class=\"dataframe\">\n",
       "  <thead>\n",
       "    <tr style=\"text-align: right;\">\n",
       "      <th></th>\n",
       "      <th>Date</th>\n",
       "      <th>Sales_USD_cumsum</th>\n",
       "      <th>Number_of_Sales_cumsum</th>\n",
       "      <th>Active_Market_Wallets_cumsum</th>\n",
       "      <th>Primary_Sales_cumsum</th>\n",
       "      <th>Secondary_Sales_cumsum</th>\n",
       "      <th>AverageUSD_cum</th>\n",
       "      <th>Sales_USD</th>\n",
       "      <th>Number_of_Sales</th>\n",
       "      <th>Active_Market_Wallets</th>\n",
       "      <th>Primary_Sales</th>\n",
       "      <th>Year</th>\n",
       "      <th>Month</th>\n",
       "    </tr>\n",
       "  </thead>\n",
       "  <tbody>\n",
       "    <tr>\n",
       "      <th>0</th>\n",
       "      <td>2017-06-22</td>\n",
       "      <td>0.000000e+00</td>\n",
       "      <td>0</td>\n",
       "      <td>0.0</td>\n",
       "      <td>0</td>\n",
       "      <td>NaN</td>\n",
       "      <td>NaN</td>\n",
       "      <td>NaN</td>\n",
       "      <td>NaN</td>\n",
       "      <td>NaN</td>\n",
       "      <td>NaN</td>\n",
       "      <td>2017</td>\n",
       "      <td>6</td>\n",
       "    </tr>\n",
       "    <tr>\n",
       "      <th>1</th>\n",
       "      <td>2017-06-23</td>\n",
       "      <td>1.020300e+03</td>\n",
       "      <td>19</td>\n",
       "      <td>8.0</td>\n",
       "      <td>0</td>\n",
       "      <td>19.0</td>\n",
       "      <td>53.70</td>\n",
       "      <td>1.020300e+03</td>\n",
       "      <td>19.0</td>\n",
       "      <td>8.0</td>\n",
       "      <td>0.0</td>\n",
       "      <td>2017</td>\n",
       "      <td>6</td>\n",
       "    </tr>\n",
       "    <tr>\n",
       "      <th>2</th>\n",
       "      <td>2017-06-24</td>\n",
       "      <td>2.261140e+03</td>\n",
       "      <td>40</td>\n",
       "      <td>21.0</td>\n",
       "      <td>0</td>\n",
       "      <td>21.0</td>\n",
       "      <td>56.53</td>\n",
       "      <td>1.240840e+03</td>\n",
       "      <td>21.0</td>\n",
       "      <td>13.0</td>\n",
       "      <td>0.0</td>\n",
       "      <td>2017</td>\n",
       "      <td>6</td>\n",
       "    </tr>\n",
       "    <tr>\n",
       "      <th>3</th>\n",
       "      <td>2017-06-25</td>\n",
       "      <td>2.778690e+03</td>\n",
       "      <td>53</td>\n",
       "      <td>28.0</td>\n",
       "      <td>0</td>\n",
       "      <td>13.0</td>\n",
       "      <td>52.43</td>\n",
       "      <td>5.175500e+02</td>\n",
       "      <td>13.0</td>\n",
       "      <td>7.0</td>\n",
       "      <td>0.0</td>\n",
       "      <td>2017</td>\n",
       "      <td>6</td>\n",
       "    </tr>\n",
       "    <tr>\n",
       "      <th>4</th>\n",
       "      <td>2017-06-26</td>\n",
       "      <td>3.203320e+03</td>\n",
       "      <td>67</td>\n",
       "      <td>34.0</td>\n",
       "      <td>0</td>\n",
       "      <td>14.0</td>\n",
       "      <td>47.81</td>\n",
       "      <td>4.246300e+02</td>\n",
       "      <td>14.0</td>\n",
       "      <td>6.0</td>\n",
       "      <td>0.0</td>\n",
       "      <td>2017</td>\n",
       "      <td>6</td>\n",
       "    </tr>\n",
       "    <tr>\n",
       "      <th>...</th>\n",
       "      <td>...</td>\n",
       "      <td>...</td>\n",
       "      <td>...</td>\n",
       "      <td>...</td>\n",
       "      <td>...</td>\n",
       "      <td>...</td>\n",
       "      <td>...</td>\n",
       "      <td>...</td>\n",
       "      <td>...</td>\n",
       "      <td>...</td>\n",
       "      <td>...</td>\n",
       "      <td>...</td>\n",
       "      <td>...</td>\n",
       "    </tr>\n",
       "    <tr>\n",
       "      <th>1601</th>\n",
       "      <td>2021-11-08</td>\n",
       "      <td>1.008803e+10</td>\n",
       "      <td>10913146</td>\n",
       "      <td>NaN</td>\n",
       "      <td>6541355</td>\n",
       "      <td>14829.0</td>\n",
       "      <td>924.39</td>\n",
       "      <td>7.706698e+07</td>\n",
       "      <td>59264.0</td>\n",
       "      <td>NaN</td>\n",
       "      <td>44435.0</td>\n",
       "      <td>2021</td>\n",
       "      <td>11</td>\n",
       "    </tr>\n",
       "    <tr>\n",
       "      <th>1602</th>\n",
       "      <td>2021-11-09</td>\n",
       "      <td>1.014001e+10</td>\n",
       "      <td>10964025</td>\n",
       "      <td>NaN</td>\n",
       "      <td>6573511</td>\n",
       "      <td>18723.0</td>\n",
       "      <td>924.84</td>\n",
       "      <td>5.197508e+07</td>\n",
       "      <td>50879.0</td>\n",
       "      <td>NaN</td>\n",
       "      <td>32156.0</td>\n",
       "      <td>2021</td>\n",
       "      <td>11</td>\n",
       "    </tr>\n",
       "    <tr>\n",
       "      <th>1603</th>\n",
       "      <td>2021-11-10</td>\n",
       "      <td>1.019902e+10</td>\n",
       "      <td>11008847</td>\n",
       "      <td>NaN</td>\n",
       "      <td>6601205</td>\n",
       "      <td>17128.0</td>\n",
       "      <td>926.44</td>\n",
       "      <td>5.901034e+07</td>\n",
       "      <td>44822.0</td>\n",
       "      <td>NaN</td>\n",
       "      <td>27694.0</td>\n",
       "      <td>2021</td>\n",
       "      <td>11</td>\n",
       "    </tr>\n",
       "    <tr>\n",
       "      <th>1604</th>\n",
       "      <td>2021-11-11</td>\n",
       "      <td>1.023456e+10</td>\n",
       "      <td>11022782</td>\n",
       "      <td>NaN</td>\n",
       "      <td>6609013</td>\n",
       "      <td>6127.0</td>\n",
       "      <td>928.49</td>\n",
       "      <td>3.554317e+07</td>\n",
       "      <td>13935.0</td>\n",
       "      <td>NaN</td>\n",
       "      <td>7808.0</td>\n",
       "      <td>2021</td>\n",
       "      <td>11</td>\n",
       "    </tr>\n",
       "    <tr>\n",
       "      <th>1605</th>\n",
       "      <td>2021-11-12</td>\n",
       "      <td>1.022836e+10</td>\n",
       "      <td>11020587</td>\n",
       "      <td>NaN</td>\n",
       "      <td>6607842</td>\n",
       "      <td>-1024.0</td>\n",
       "      <td>928.11</td>\n",
       "      <td>-6.196720e+06</td>\n",
       "      <td>-2195.0</td>\n",
       "      <td>NaN</td>\n",
       "      <td>-1171.0</td>\n",
       "      <td>2021</td>\n",
       "      <td>11</td>\n",
       "    </tr>\n",
       "  </tbody>\n",
       "</table>\n",
       "<p>1606 rows × 13 columns</p>\n",
       "</div>"
      ],
      "text/plain": [
       "            Date  Sales_USD_cumsum  Number_of_Sales_cumsum  \\\n",
       "0     2017-06-22      0.000000e+00                       0   \n",
       "1     2017-06-23      1.020300e+03                      19   \n",
       "2     2017-06-24      2.261140e+03                      40   \n",
       "3     2017-06-25      2.778690e+03                      53   \n",
       "4     2017-06-26      3.203320e+03                      67   \n",
       "...          ...               ...                     ...   \n",
       "1601  2021-11-08      1.008803e+10                10913146   \n",
       "1602  2021-11-09      1.014001e+10                10964025   \n",
       "1603  2021-11-10      1.019902e+10                11008847   \n",
       "1604  2021-11-11      1.023456e+10                11022782   \n",
       "1605  2021-11-12      1.022836e+10                11020587   \n",
       "\n",
       "      Active_Market_Wallets_cumsum  Primary_Sales_cumsum  \\\n",
       "0                              0.0                     0   \n",
       "1                              8.0                     0   \n",
       "2                             21.0                     0   \n",
       "3                             28.0                     0   \n",
       "4                             34.0                     0   \n",
       "...                            ...                   ...   \n",
       "1601                           NaN               6541355   \n",
       "1602                           NaN               6573511   \n",
       "1603                           NaN               6601205   \n",
       "1604                           NaN               6609013   \n",
       "1605                           NaN               6607842   \n",
       "\n",
       "      Secondary_Sales_cumsum  AverageUSD_cum     Sales_USD  Number_of_Sales  \\\n",
       "0                        NaN             NaN           NaN              NaN   \n",
       "1                       19.0           53.70  1.020300e+03             19.0   \n",
       "2                       21.0           56.53  1.240840e+03             21.0   \n",
       "3                       13.0           52.43  5.175500e+02             13.0   \n",
       "4                       14.0           47.81  4.246300e+02             14.0   \n",
       "...                      ...             ...           ...              ...   \n",
       "1601                 14829.0          924.39  7.706698e+07          59264.0   \n",
       "1602                 18723.0          924.84  5.197508e+07          50879.0   \n",
       "1603                 17128.0          926.44  5.901034e+07          44822.0   \n",
       "1604                  6127.0          928.49  3.554317e+07          13935.0   \n",
       "1605                 -1024.0          928.11 -6.196720e+06          -2195.0   \n",
       "\n",
       "      Active_Market_Wallets  Primary_Sales  Year  Month  \n",
       "0                       NaN            NaN  2017      6  \n",
       "1                       8.0            0.0  2017      6  \n",
       "2                      13.0            0.0  2017      6  \n",
       "3                       7.0            0.0  2017      6  \n",
       "4                       6.0            0.0  2017      6  \n",
       "...                     ...            ...   ...    ...  \n",
       "1601                    NaN        44435.0  2021     11  \n",
       "1602                    NaN        32156.0  2021     11  \n",
       "1603                    NaN        27694.0  2021     11  \n",
       "1604                    NaN         7808.0  2021     11  \n",
       "1605                    NaN        -1171.0  2021     11  \n",
       "\n",
       "[1606 rows x 13 columns]"
      ]
     },
     "execution_count": 9,
     "metadata": {},
     "output_type": "execute_result"
    }
   ],
   "source": [
    "dfNft['Year'] = pd.DatetimeIndex(dfNft['Date']).year\n",
    "dfNft['Month'] = pd.DatetimeIndex(dfNft['Date']).month\n",
    "dfNft"
   ]
  },
  {
   "cell_type": "markdown",
   "id": "5c5c11f7-9483-4c48-96a1-e8518ab7285c",
   "metadata": {},
   "source": [
    "First we count how many transactions we have in different years"
   ]
  },
  {
   "cell_type": "code",
   "execution_count": 10,
   "id": "589eb53f-395b-4572-b9b5-a486d6695dbd",
   "metadata": {},
   "outputs": [
    {
     "data": {
      "image/png": "[encoded data removed]",
      "text/plain": [
       "<Figure size 432x288 with 1 Axes>"
      ]
     },
     "metadata": {
      "needs_background": "light"
     },
     "output_type": "display_data"
    }
   ],
   "source": [
    "year = dfNft.groupby(dfNft['Year'])['Year'].count()\n",
    "year.plot.bar()\n",
    "plt.show()"
   ]
  },
  {
   "cell_type": "markdown",
   "id": "e2a832aa-6a2e-4365-b02a-45ca313fd920",
   "metadata": {},
   "source": [
    "We can figure out which year have more success in sells"
   ]
  },
  {
   "cell_type": "code",
   "execution_count": 11,
   "id": "5692c305-403e-4221-b1ac-1f99660a8ec5",
   "metadata": {},
   "outputs": [
    {
     "data": {
      "image/png": "[encoded data removed]",
      "text/plain": [
       "<Figure size 432x288 with 1 Axes>"
      ]
     },
     "metadata": {
      "needs_background": "light"
     },
     "output_type": "display_data"
    }
   ],
   "source": [
    "yearTotal = dfNft.groupby(dfNft['Year'])['Primary_Sales_cumsum'].sum()\n",
    "yearTotal.plot.bar()\n",
    "plt.show()"
   ]
  },
  {
   "cell_type": "markdown",
   "id": "a62103c2-33c2-401a-b2b6-5a7d7dcc6a0b",
   "metadata": {},
   "source": [
    "### How many wallets in a year are being used?"
   ]
  },
  {
   "cell_type": "code",
   "execution_count": 12,
   "id": "98251fde-9e14-4fde-ae3c-1d72a90e7a51",
   "metadata": {},
   "outputs": [
    {
     "data": {
      "image/png": "[encoded data removed]",
      "text/plain": [
       "<Figure size 432x288 with 1 Axes>"
      ]
     },
     "metadata": {
      "needs_background": "light"
     },
     "output_type": "display_data"
    },
    {
     "data": {
      "image/png": "[encoded data removed]",
      "text/plain": [
       "<Figure size 432x288 with 1 Axes>"
      ]
     },
     "metadata": {
      "needs_background": "light"
     },
     "output_type": "display_data"
    },
    {
     "data": {
      "image/png": "[encoded data removed]",
      "text/plain": [
       "<Figure size 432x288 with 1 Axes>"
      ]
     },
     "metadata": {
      "needs_background": "light"
     },
     "output_type": "display_data"
    },
    {
     "data": {
      "image/png": "[encoded data removed]",
      "text/plain": [
       "<Figure size 432x288 with 1 Axes>"
      ]
     },
     "metadata": {
      "needs_background": "light"
     },
     "output_type": "display_data"
    },
    {
     "data": {
      "image/png": "[encoded data removed]",
      "text/plain": [
       "<Figure size 432x288 with 1 Axes>"
      ]
     },
     "metadata": {
      "needs_background": "light"
     },
     "output_type": "display_data"
    }
   ],
   "source": [
    "years = [2017,2018,2019,2020,2021]\n",
    "\n",
    "for year in years:\n",
    "    month_year = dfNft.where(dfNft['Year'] == year)\n",
    "    month_year.dropna()\n",
    "    month_of_year = dfNft.groupby(dfNft['Month'])['Active_Market_Wallets'].count()\n",
    "    month_of_year.plot.bar()\n",
    "    plt.show()"
   ]
  },
  {
   "cell_type": "code",
   "execution_count": 13,
   "id": "5aea10e5-0803-44ee-a061-3d12027157cb",
   "metadata": {},
   "outputs": [
    {
     "data": {
      "image/png": "[encoded data removed]",
      "text/plain": [
       "<Figure size 432x288 with 1 Axes>"
      ]
     },
     "metadata": {
      "needs_background": "light"
     },
     "output_type": "display_data"
    }
   ],
   "source": [
    "month_year = dfNft.where(dfNft['Year'] ==2017)\n",
    "month_year.dropna()\n",
    "month_2017 = dfNft.groupby(dfNft['Month'])['Active_Market_Wallets'].count()\n",
    "month_2017.plot.bar()\n",
    "plt.show()"
   ]
  },
  {
   "cell_type": "markdown",
   "id": "e810151c-bfd4-4d4d-aedb-1a81616be0a1",
   "metadata": {},
   "source": [
    "How many active wallets we have in the year"
   ]
  },
  {
   "cell_type": "code",
   "execution_count": 14,
   "id": "eca8695d-97af-4575-828c-0a54062c6653",
   "metadata": {},
   "outputs": [
    {
     "data": {
      "image/png": "[encoded data removed]",
      "text/plain": [
       "<Figure size 432x288 with 1 Axes>"
      ]
     },
     "metadata": {
      "needs_background": "light"
     },
     "output_type": "display_data"
    }
   ],
   "source": [
    "yearWallet = dfNft.groupby(dfNft['Year'])['Active_Market_Wallets'].sum()\n",
    "yearWallet.plot.bar()\n",
    "plt.show()"
   ]
  },
  {
   "cell_type": "markdown",
   "id": "07cac436-c745-4bca-91f6-43eeee344488",
   "metadata": {},
   "source": [
    "Which month has more activity?"
   ]
  },
  {
   "cell_type": "code",
   "execution_count": 27,
   "id": "5bf5d991-baaf-43a6-a6ff-ad9166c07f38",
   "metadata": {},
   "outputs": [
    {
     "name": "stdout",
     "output_type": "stream",
     "text": [
      "2017\n",
      "Month\n",
      "1     125\n",
      "2     113\n",
      "3     124\n",
      "4     120\n",
      "5     124\n",
      "6     129\n",
      "7     155\n",
      "8     155\n",
      "9     150\n",
      "10    155\n",
      "11    132\n",
      "12    124\n",
      "Name: Sales_USD_cumsum, dtype: int64\n",
      "2018\n",
      "Month\n",
      "1     125\n",
      "2     113\n",
      "3     124\n",
      "4     120\n",
      "5     124\n",
      "6     129\n",
      "7     155\n",
      "8     155\n",
      "9     150\n",
      "10    155\n",
      "11    132\n",
      "12    124\n",
      "Name: Sales_USD_cumsum, dtype: int64\n",
      "2019\n",
      "Month\n",
      "1     125\n",
      "2     113\n",
      "3     124\n",
      "4     120\n",
      "5     124\n",
      "6     129\n",
      "7     155\n",
      "8     155\n",
      "9     150\n",
      "10    155\n",
      "11    132\n",
      "12    124\n",
      "Name: Sales_USD_cumsum, dtype: int64\n",
      "2020\n",
      "Month\n",
      "1     125\n",
      "2     113\n",
      "3     124\n",
      "4     120\n",
      "5     124\n",
      "6     129\n",
      "7     155\n",
      "8     155\n",
      "9     150\n",
      "10    155\n",
      "11    132\n",
      "12    124\n",
      "Name: Sales_USD_cumsum, dtype: int64\n",
      "2021\n",
      "Month\n",
      "1     125\n",
      "2     113\n",
      "3     124\n",
      "4     120\n",
      "5     124\n",
      "6     129\n",
      "7     155\n",
      "8     155\n",
      "9     150\n",
      "10    155\n",
      "11    132\n",
      "12    124\n",
      "Name: Sales_USD_cumsum, dtype: int64\n"
     ]
    }
   ],
   "source": [
    "years = [2017,2018,2019,2020,2021]\n",
    "\n",
    "for year in years:\n",
    "    print(year)\n",
    "    month_year = dfNft.where(dfNft['Year'] == year)\n",
    "    \n",
    "    month_year.dropna()\n",
    "    month_of_year = dfNft.groupby(dfNft['Month'])['Sales_USD_cumsum'].count()\n",
    "    print(month_of_year)\n",
    "    # month_of_year.plot.bar()\n",
    "    # plt.show()"
   ]
  },
  {
   "cell_type": "code",
   "execution_count": null,
   "id": "e0874e2f-26a4-4acf-8dec-7057298c315f",
   "metadata": {},
   "outputs": [],
   "source": [
    "wallets_"
   ]
  },
  {
   "cell_type": "code",
   "execution_count": null,
   "id": "5e1d230f-1623-4267-991a-d5d85f5a3085",
   "metadata": {},
   "outputs": [],
   "source": []
  },
  {
   "cell_type": "code",
   "execution_count": null,
   "id": "5af7d440-54b6-4001-8610-dc0baa2cdf40",
   "metadata": {},
   "outputs": [],
   "source": []
  }
 ],
 "metadata": {
  "kernelspec": {
   "display_name": "Python 3 (ipykernel)",
   "language": "python",
   "name": "python3"
  },
  "language_info": {
   "codemirror_mode": {
    "name": "ipython",
    "version": 3
   },
   "file_extension": ".py",
   "mimetype": "text/x-python",
   "name": "python",
   "nbconvert_exporter": "python",
   "pygments_lexer": "ipython3",
   "version": "3.9.5"
  }
 },
 "nbformat": 4,
 "nbformat_minor": 5
}
